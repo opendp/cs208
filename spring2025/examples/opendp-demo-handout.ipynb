{
  "nbformat": 4,
  "nbformat_minor": 0,
  "metadata": {
    "colab": {
      "provenance": []
    },
    "kernelspec": {
      "name": "python3",
      "display_name": "Python 3"
    },
    "language_info": {
      "name": "python"
    }
  },
  "cells": [
    {
      "cell_type": "markdown",
      "source": [
        "#CS 2080: OpenDP Demo"
      ],
      "metadata": {
        "id": "RmJwvf-4MajN"
      }
    },
    {
      "cell_type": "markdown",
      "source": [
        "Install OpenDP"
      ],
      "metadata": {
        "id": "l12nogi2FS2P"
      }
    },
    {
      "cell_type": "code",
      "execution_count": 3,
      "metadata": {
        "colab": {
          "base_uri": "https://localhost:8080/"
        },
        "id": "jVEuyfA6FK-S",
        "outputId": "7e1e6a01-c1d8-4541-867b-002eb587586d"
      },
      "outputs": [
        {
          "output_type": "stream",
          "name": "stdout",
          "text": [
            "Collecting opendp\n",
            "  Downloading opendp-0.12.1-cp39-abi3-manylinux_2_17_x86_64.manylinux2014_x86_64.whl.metadata (6.1 kB)\n",
            "Requirement already satisfied: deprecated in /usr/local/lib/python3.11/dist-packages (from opendp) (1.2.18)\n",
            "Requirement already satisfied: wrapt<2,>=1.10 in /usr/local/lib/python3.11/dist-packages (from deprecated->opendp) (1.17.2)\n",
            "Downloading opendp-0.12.1-cp39-abi3-manylinux_2_17_x86_64.manylinux2014_x86_64.whl (25.0 MB)\n",
            "\u001b[2K   \u001b[90m━━━━━━━━━━━━━━━━━━━━━━━━━━━━━━━━━━━━━━━━\u001b[0m \u001b[32m25.0/25.0 MB\u001b[0m \u001b[31m68.1 MB/s\u001b[0m eta \u001b[36m0:00:00\u001b[0m\n",
            "\u001b[?25hInstalling collected packages: opendp\n",
            "Successfully installed opendp-0.12.1\n"
          ]
        }
      ],
      "source": [
        "pip install opendp"
      ]
    },
    {
      "cell_type": "markdown",
      "source": [
        "Import OpenDP and enable relevant flags"
      ],
      "metadata": {
        "id": "OF6RgnJkFWMX"
      }
    },
    {
      "cell_type": "code",
      "source": [
        "import pandas as pd\n",
        "import numpy as np\n",
        "\n",
        "import opendp.prelude as dp\n",
        "dp.enable_features(\"honest-but-curious\", \"contrib\")"
      ],
      "metadata": {
        "id": "ZJGfep2NFZy3"
      },
      "execution_count": 4,
      "outputs": []
    },
    {
      "cell_type": "markdown",
      "source": [
        "- **Honest-but-Curious**: We will require a looser trust model, as we cannot verify any privacy or stability properties of user-defined functions (exercise 2).\n",
        "- **Contrib**: include mechanisms which have not yet been fully vetted"
      ],
      "metadata": {
        "id": "glLfbivgFgz5"
      }
    },
    {
      "cell_type": "code",
      "source": [
        "# Read in the dataset\n",
        "# We will look at income data from the California PUMS dataset\n",
        "data = dp.examples.get_california_pums_path().read_text()\n",
        "\n",
        "# the greatest number of records that any one individual can influence in the dataset\n",
        "max_influence = 1\n",
        "\n",
        "# establish public information\n",
        "col_names = [\"age\", \"sex\", \"educ\", \"race\", \"income\", \"married\"]\n",
        "\n",
        "# we can also reasonably intuit that age and income will be numeric,\n",
        "# as well as bounds for them, without looking at the data\n",
        "age_bounds = (0, 100)\n",
        "income_bounds = (0, 150_000)"
      ],
      "metadata": {
        "id": "6yNpsKkSFkdg"
      },
      "execution_count": 6,
      "outputs": []
    },
    {
      "cell_type": "markdown",
      "source": [
        "### Creating our first transformation\n",
        "\n",
        "We will create a transformation that preprocesses the `Income` column in the dataset. Note that we will use the chaining operator `>>` to combine transformations and measurements. Note that when chaining `A >> B`, the input domain of `B` must match the output domain of `A`.\n",
        "\n",
        "We will use the [`make_split_dataframe()`](https://docs.opendp.org/en/stable/api/python/opendp.transformations.html#opendp.transformations.make_split_dataframe) and [`make_select_column()`](https://docs.opendp.org/en/stable/api/python/opendp.transformations.html#opendp.transformations.make_select_column) transformations."
      ],
      "metadata": {
        "id": "qCwjPIu1JNOA"
      }
    },
    {
      "cell_type": "code",
      "source": [
        "income_preprocessor = (\n",
        "    # Convert data into a dataframe where columns are of type Vec<str>\n",
        "    #TODO\n",
        "    # Selects a column of df, Vec<str>\n",
        "    #TODO\n",
        ")\n",
        "\n",
        "#inspect the preprocessor transformation\n",
        "print(income_preprocessor)"
      ],
      "metadata": {
        "id": "gPFUoqoeJSk3"
      },
      "execution_count": null,
      "outputs": []
    },
    {
      "cell_type": "code",
      "source": [
        "transformed_data = income_preprocessor(data)\n",
        "print(transformed_data[:10])"
      ],
      "metadata": {
        "id": "igBQ6OWDXtMW"
      },
      "execution_count": null,
      "outputs": []
    },
    {
      "cell_type": "markdown",
      "source": [
        "Observe that the above transformed data is a vector of strings. We will want to instead convert these into a vector of integers. Use [`then_cast()`](https://docs.opendp.org/en/stable/api/python/opendp.transformations.html#opendp.transformations.then_cast) to convert the vector of strings to a vector of ints. We will also chain with [`then_impute_constant()`](https://docs.opendp.org/en/stable/api/python/opendp.transformations.html#opendp.transformations.then_impute_constant) to insert the constant $0$ in any row where the string-to-int cast operation fails."
      ],
      "metadata": {
        "id": "PbM4CJFGLC5_"
      }
    },
    {
      "cell_type": "code",
      "source": [
        "cast_str_int = (\n",
        "    # start with the output space of the income_preprocessor\n",
        "    income_preprocessor.output_space >>\n",
        "    # cast Vec<str> to Vec<Option<int>>\n",
        "    #TODO\n",
        "    # Replace any elements that failed to parse with 0, emitting a Vec<int>\n",
        "    #TODO\n",
        ")\n",
        "\n",
        "#print(cast_str_int)"
      ],
      "metadata": {
        "id": "4OMzx380K1u-"
      },
      "execution_count": null,
      "outputs": []
    },
    {
      "cell_type": "code",
      "source": [
        "# replace the previous preprocessor: extend it with the caster\n",
        "income_preprocessor = income_preprocessor >> cast_str_int\n",
        "print(income_preprocessor(data)[:10])"
      ],
      "metadata": {
        "colab": {
          "base_uri": "https://localhost:8080/"
        },
        "id": "_o96MigdX6gH",
        "outputId": "90a925dd-83ad-4a4d-bfbf-a8e721df311b"
      },
      "execution_count": null,
      "outputs": [
        {
          "output_type": "stream",
          "name": "stdout",
          "text": [
            "[0, 17000, 0, 9100, 37000, 0, 6000, 350000, 33000, 25000]\n"
          ]
        }
      ]
    },
    {
      "cell_type": "markdown",
      "source": [
        "Great! Now we have integer income data from our CSV. We can now compute our first private statistic. Suppose we want to know the number of records in the dataset. We can use the [list of aggregators](https://docs.opendp.org/en/stable/api/user-guide/transformations/index.html) in the transformation constructors section of the user guide to find `then_count()`."
      ],
      "metadata": {
        "id": "CUNjmGYzLUa4"
      }
    },
    {
      "cell_type": "code",
      "source": [
        "count = income_preprocessor >> dp.t.then_count()\n",
        "# NOT a DP release!\n",
        "count_response = count(data)\n",
        "print(count_response)"
      ],
      "metadata": {
        "colab": {
          "base_uri": "https://localhost:8080/"
        },
        "id": "dKUNMTc5LnlT",
        "outputId": "e12f42ff-2314-42ad-a3b5-55a479fea65e"
      },
      "execution_count": null,
      "outputs": [
        {
          "output_type": "stream",
          "name": "stdout",
          "text": [
            "1000\n"
          ]
        }
      ]
    },
    {
      "cell_type": "markdown",
      "source": [
        "We will need to chain the above counting transformation with a measurement to create a differentially private release.\n",
        "\n",
        "When you use `then_laplace` below, it automatically chooses a discrete variation of the mechanism (i.e., the Geometric mechanism) for privatizing integers. Notice that the function now comes from dp.m (denoting measurement constructors), and the resulting type(dp_count) is Measurement. This tells us that the output will be a differentially private release."
      ],
      "metadata": {
        "id": "UcPp_wZVLuRr"
      }
    },
    {
      "cell_type": "code",
      "source": [
        "dp_count = count >> dp.m.then_laplace(scale=1.)"
      ],
      "metadata": {
        "id": "XfI80zq_L7gV"
      },
      "execution_count": null,
      "outputs": []
    },
    {
      "cell_type": "markdown",
      "source": [
        "In any realistic situation, you would likely want to estimate the budget utilization before you make a release. Use a search utility to quantify the privacy expenditure of this release. See [`binary_search`](https://docs.opendp.org/en/stable/api/user-guide/utilities/parameter-search.html) in the OpenDP docs."
      ],
      "metadata": {
        "id": "up4Y9wTbMN1w"
      }
    },
    {
      "cell_type": "code",
      "source": [
        "epsilon = dp.binary_search(\n",
        "    lambda eps: dp_count.check(d_in=max_influence, d_out=eps),\n",
        "    bounds=(0., 100.))\n",
        "print(\"DP count budget:\", epsilon)"
      ],
      "metadata": {
        "colab": {
          "base_uri": "https://localhost:8080/"
        },
        "id": "Af-UWJIdMMuw",
        "outputId": "0161be06-acc1-434c-c4a1-d6d2254a1a90"
      },
      "execution_count": null,
      "outputs": [
        {
          "output_type": "stream",
          "name": "stdout",
          "text": [
            "DP count budget: 1.0\n"
          ]
        }
      ]
    },
    {
      "cell_type": "code",
      "source": [
        "count_release = dp_count(data)\n",
        "print(\"DP count:\", count_release)"
      ],
      "metadata": {
        "colab": {
          "base_uri": "https://localhost:8080/"
        },
        "id": "LY2K7DQ_MRTg",
        "outputId": "a4721c57-9a3e-40e4-eb78-e96e456abac0"
      },
      "execution_count": null,
      "outputs": [
        {
          "output_type": "stream",
          "name": "stdout",
          "text": [
            "DP count: 999\n"
          ]
        }
      ]
    },
    {
      "cell_type": "markdown",
      "source": [
        "### Computing a Private Sum"
      ],
      "metadata": {
        "id": "a-vtwaAYMlYF"
      }
    },
    {
      "cell_type": "markdown",
      "source": [
        "Suppose we want to know the total income of our dataset. First, take a look at the [list of aggregators](https://www.google.com/url?q=https%3A%2F%2Fdocs.opendp.org%2Fen%2Fstable%2Fapi%2Fuser-guide%2Ftransformations%2Findex.html) and observe that `make_sum` meets our requirements. As indicated by the function’s API documentation, it expects bounded data, so we’ll also need to chain the transformation from `then_clamp` with the income_preprocessor."
      ],
      "metadata": {
        "id": "gH2My4s_Mqkv"
      }
    },
    {
      "cell_type": "code",
      "source": [
        "bounded_income_sum = (\n",
        "    income_preprocessor >>\n",
        "    # clamp income values.\n",
        "    # \"then_*\" means it uses the output domain and output metric from the previous transformation\n",
        "    #TODO: apply clamping transformation\n",
        "\n",
        "    # similarly, here we use \"then_sum\" to avoid needing to specify the input space.\n",
        "    # the sum constructor gets told that the input consists of bounded data\n",
        "    #TODO: apply sum transformation\n",
        ")"
      ],
      "metadata": {
        "id": "TtDwBb6OMnoj"
      },
      "execution_count": null,
      "outputs": []
    },
    {
      "cell_type": "markdown",
      "source": [
        "In this example, instead of just passing a scale into make_laplace, we want whatever scale will make my measurement $\\varepsilon$-DP for $\\varepsilon=1$. Again, we can use a search utility to find such a scale."
      ],
      "metadata": {
        "id": "u3nC4hMGNCZ_"
      }
    },
    {
      "cell_type": "code",
      "source": [
        "discovered_scale = dp.binary_search_param(\n",
        "    lambda s: bounded_income_sum >> dp.m.then_laplace(scale=s),\n",
        "    d_in=max_influence,\n",
        "    d_out=1.)\n",
        "\n",
        "dp_sum = bounded_income_sum >> dp.m.then_laplace(scale=discovered_scale)"
      ],
      "metadata": {
        "id": "dNi2gB0_NB0W"
      },
      "execution_count": null,
      "outputs": []
    },
    {
      "cell_type": "markdown",
      "source": [
        "and then we can release the private sum..."
      ],
      "metadata": {
        "id": "X-LrDXMpNZSh"
      }
    },
    {
      "cell_type": "code",
      "source": [
        "dp_sum = bounded_income_sum >> dp.m.then_laplace(scale=discovered_scale)\n",
        "print(dp_sum(data))"
      ],
      "metadata": {
        "colab": {
          "base_uri": "https://localhost:8080/"
        },
        "id": "Fn5HWi__NYPZ",
        "outputId": "f87fa454-2eca-48ef-9bcb-1792d7465ed1"
      },
      "execution_count": null,
      "outputs": [
        {
          "output_type": "stream",
          "name": "stdout",
          "text": [
            "30182007\n"
          ]
        }
      ]
    },
    {
      "cell_type": "markdown",
      "source": [
        "### Computing a Private Mean\n",
        "We may be more interested in the mean age. The constructor for this function expects sized, bounded data. Sized data is data that has a known number of rows. The constructor enforces this requirement because knowledge of the dataset size is necessary to bound the sensitivity of the function.\n",
        "\n",
        "Luckily, we’ve already made a DP release of the number of rows in the dataset, which we can reuse as an argument here."
      ],
      "metadata": {
        "id": "sSuSgzm2NhCK"
      }
    },
    {
      "cell_type": "code",
      "source": [
        "dp_mean = (\n",
        "    # Convert data into a dataframe of string columns\n",
        "    dp.t.make_split_dataframe(separator=\",\", col_names=col_names) >>\n",
        "    # Selects a column of df, Vec<str>\n",
        "    dp.t.make_select_column(key=\"age\", TOA=str) >>\n",
        "    # Cast the column as Vec<float>, and fill nulls with the default value, 0.\n",
        "    #TODO:\n",
        "    # Clamp age values\n",
        "    #TODO:\n",
        "    # Resize the dataset to length `count_release`.\n",
        "    #     If there are fewer than `count_release` rows in the data, fill with a constant of 20.\n",
        "    #     If there are more than `count_release` rows in the data, only keep `count_release` rows\n",
        "    #TODO:\n",
        "    # Compute the mean\n",
        "    #TODO:\n",
        "    # add laplace noise\n",
        "    #TODO:\n",
        ")\n",
        "\n",
        "#mean_release = dp_mean(data)\n",
        "#print(\"DP mean:\", mean_release)"
      ],
      "metadata": {
        "id": "WeDf6OX-NzvO"
      },
      "execution_count": null,
      "outputs": []
    },
    {
      "cell_type": "markdown",
      "source": [
        "## Composition\n",
        "\n",
        "We can also compose multiple measurements into a single measurement using [basic composition](https://docs.opendp.org/en/stable/api/user-guide/combinators/compositors.html#basic-composition)."
      ],
      "metadata": {
        "id": "0epKTLjoPqoV"
      }
    },
    {
      "cell_type": "code",
      "source": [
        "composed = dp.c.make_basic_composition([dp_sum, dp_mean])\n",
        "composed(data)"
      ],
      "metadata": {
        "colab": {
          "base_uri": "https://localhost:8080/"
        },
        "id": "1XJXmH6HPwL9",
        "outputId": "a35b17da-ec76-4a41-a716-71a385013706"
      },
      "execution_count": null,
      "outputs": [
        {
          "output_type": "execute_result",
          "data": {
            "text/plain": [
              "[30177386, 44.348417133156815]"
            ]
          },
          "metadata": {},
          "execution_count": 74
        }
      ]
    },
    {
      "cell_type": "code",
      "source": [
        "composed.map(1)"
      ],
      "metadata": {
        "colab": {
          "base_uri": "https://localhost:8080/"
        },
        "id": "LO9oS7eSP4Nu",
        "outputId": "3fd84fcf-ab32-43ff-c608-6f6da90da086"
      },
      "execution_count": null,
      "outputs": [
        {
          "output_type": "execute_result",
          "data": {
            "text/plain": [
              "1.0999000999005568"
            ]
          },
          "metadata": {},
          "execution_count": 75
        }
      ]
    },
    {
      "cell_type": "markdown",
      "source": [
        "... and look at the resulting privacy loss"
      ],
      "metadata": {
        "id": "BkCXBXFXP2Nt"
      }
    },
    {
      "cell_type": "markdown",
      "source": [
        "## Plugins API\n",
        "\n",
        "We can also create user-defined transformations and measurements using the plugins API."
      ],
      "metadata": {
        "id": "SLcJckoZVZZF"
      }
    },
    {
      "cell_type": "code",
      "source": [
        "def make_repeat(multiplicity):\n",
        "    \"\"\"Constructs a Transformation that duplicates each record `multiplicity` times\"\"\"\n",
        "    def function(arg: list[int]) -> list[int]:\n",
        "        #TODO\n",
        "\n",
        "    def stability_map(d_in: int) -> int:\n",
        "        # if a user could influence at most `d_in` records before,\n",
        "        # they can now influence `d_in` * `multiplicity` records\n",
        "        #TODO\n",
        "\n",
        "    return dp.t.make_user_transformation(\n",
        "        input_domain=dp.vector_domain(dp.atom_domain(T=int)),\n",
        "        input_metric=dp.symmetric_distance(),\n",
        "        output_domain=dp.vector_domain(dp.atom_domain(T=int)),\n",
        "        output_metric=dp.symmetric_distance(),\n",
        "        function=function,\n",
        "        stability_map=stability_map,\n",
        "    )"
      ],
      "metadata": {
        "id": "y80pzkksVehN"
      },
      "execution_count": null,
      "outputs": []
    },
    {
      "cell_type": "markdown",
      "source": [
        "The resulting Transformation may be used interchangeably with those constructed via the library:\n"
      ],
      "metadata": {
        "id": "n-Ef0MxPWNyU"
      }
    },
    {
      "cell_type": "code",
      "source": [
        "twice_sum_transformation = (\n",
        "    income_preprocessor\n",
        "    >> make_repeat(2)  # our custom transformation\n",
        "    >> dp.t.then_clamp(income_bounds)\n",
        "    >> dp.t.then_sum()\n",
        ")\n",
        "\n",
        "release = twice_sum_transformation(data)\n",
        "twice_sum_transformation.map(1)"
      ],
      "metadata": {
        "colab": {
          "base_uri": "https://localhost:8080/"
        },
        "id": "-tzgdX0vVkb_",
        "outputId": "f43269a1-02aa-4915-e075-fc1673ee893e"
      },
      "execution_count": null,
      "outputs": [
        {
          "output_type": "execute_result",
          "data": {
            "text/plain": [
              "300000"
            ]
          },
          "metadata": {},
          "execution_count": 81
        }
      ]
    },
    {
      "cell_type": "markdown",
      "source": [
        "We can also use the plugins API to create user-defined measurements. In this example, we'll make most private DP mechanism ever:\n",
        "\n"
      ],
      "metadata": {
        "id": "cDinrjP8WXJt"
      }
    },
    {
      "cell_type": "code",
      "source": [
        "def make_base_constant(constant):\n",
        "    \"\"\"Constructs a Measurement that only returns a constant value.\"\"\"\n",
        "    def function(_arg: int):\n",
        "        #TODO\n",
        "\n",
        "    def privacy_map(d_in: int) -> float:\n",
        "        #TODO\n",
        "\n",
        "    return dp.m.make_user_measurement(\n",
        "        input_domain=dp.atom_domain(T=int),\n",
        "        input_metric=dp.absolute_distance(T=int),\n",
        "        output_measure=dp.max_divergence(),\n",
        "        function=function,\n",
        "        privacy_map=privacy_map,\n",
        "        TO=type(constant),  # the expected type of the output\n",
        "    )"
      ],
      "metadata": {
        "id": "1wq71rUPWevt"
      },
      "execution_count": null,
      "outputs": []
    },
    {
      "cell_type": "markdown",
      "source": [
        "The resulting Measurement may be used interchangeably with those constructed via the library:"
      ],
      "metadata": {
        "id": "kkI574YvWlmG"
      }
    },
    {
      "cell_type": "code",
      "source": [
        "meas = (\n",
        "    twice_sum_transformation\n",
        "    >> make_base_constant(\"denied\")\n",
        ")\n",
        "\n",
        "print(meas(data))\n",
        "\n",
        "# computes epsilon, because the output measure is max divergence\n",
        "meas.map(1)"
      ],
      "metadata": {
        "colab": {
          "base_uri": "https://localhost:8080/"
        },
        "id": "J7aaGOcWWmpX",
        "outputId": "689a5806-2c0b-4234-c5a1-21e6d2e94097"
      },
      "execution_count": null,
      "outputs": [
        {
          "output_type": "stream",
          "name": "stdout",
          "text": [
            "denied\n"
          ]
        },
        {
          "output_type": "execute_result",
          "data": {
            "text/plain": [
              "0.0"
            ]
          },
          "metadata": {},
          "execution_count": 86
        }
      ]
    }
  ]
}