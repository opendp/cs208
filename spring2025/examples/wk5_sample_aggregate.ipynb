{
 "cells": [
  {
   "cell_type": "markdown",
   "source": [
    "## Sample-and-Aggregate algorithm using our DP Mean and Gaussian Mechanism\n"
   ],
   "metadata": {
    "tags": [],
    "cell_id": "78f3ba1e-c430-4839-849d-51c0e75137e3",
    "deepnote_cell_type": "markdown"
   }
  },
  {
   "cell_type": "code",
   "metadata": {
    "tags": [],
    "deepnote_to_be_reexecuted": false,
    "source_hash": "753f31f1",
    "execution_start": 1645071266172,
    "execution_millis": 12929863,
    "deepnote_output_heights": [
     79
    ],
    "cell_id": "00001-8278110f-f149-40fc-b716-e5f4751207c8",
    "deepnote_cell_type": "code"
   },
   "source": [
    "import numpy as np\n",
    "import pandas as pd\n",
    "\n",
    "# established in previous lectures\n",
    "from mock_dp_library import *"
   ],
   "outputs": [],
   "execution_count": null
  },
  {
   "cell_type": "markdown",
   "source": [
    "Read in the data.  We're going to use the PUMS dataset we are familiar with, and focus on the education variable, a 16 point scale."
   ],
   "metadata": {
    "tags": [],
    "is_collapsed": false,
    "cell_id": "00002-e081a640-a554-4c7d-a764-c9b90faaf7e1",
    "deepnote_cell_type": "text-cell-p"
   }
  },
  {
   "cell_type": "code",
   "metadata": {
    "tags": [],
    "deepnote_to_be_reexecuted": false,
    "source_hash": "af79b62e",
    "execution_start": 1645071266174,
    "execution_millis": 179,
    "cell_id": "00003-f98ddaaa-2be5-47bf-96fc-7236782cb280",
    "deepnote_cell_type": "code"
   },
   "source": [
    "import pandas as pd\n",
    "data = pd.read_csv(\n",
    "    \"https://raw.githubusercontent.com/opendp/cs208/main/spring2022/data/FultonPUMS5full.csv\")\n",
    "\n",
    "# define public information\n",
    "n = len(data)            # in this case, dataset length is considered public, and is not protected\n",
    "educ_bounds = (1., 16.)  # easily guessable without looking at the data\n",
    "\n",
    "educ = data['educ'].values.astype(float)\n",
    "print(release_dp_mean(educ, bounds=educ_bounds, epsilon=1.))"
   ],
   "outputs": [
    {
     "name": "stdout",
     "text": "10.610644633036072\n",
     "output_type": "stream"
    }
   ],
   "execution_count": null
  },
  {
   "cell_type": "code",
   "metadata": {
    "cell_id": "83a41178-8e38-4063-9698-2ec152692fe4",
    "tags": [],
    "deepnote_to_be_reexecuted": false,
    "source_hash": "6faa249a",
    "execution_start": 1645071266424,
    "execution_millis": 11548385,
    "deepnote_cell_type": "code"
   },
   "source": [
    "def sample_aggregate(data: pd.DataFrame, function, partition_count: int, bounds, epsilon, delta):\n",
    "\n",
    "    ## SAMPLE\n",
    "    # shuffle without replacement\n",
    "    data = data.sample(frac=1, replace=False)\n",
    "    # split data into `partition_count` datasets\n",
    "    partitions = np.array_split(data, partition_count)\n",
    "\n",
    "    ## EVALUATE\n",
    "    results = []\n",
    "    for partition in partitions:\n",
    "        results.append(function(partition))\n",
    "\n",
    "    ## AGGREGATE\n",
    "    private_release = release_dp_mean(\n",
    "        results, bounds=bounds, epsilon=epsilon, delta=delta, mechanism=\"gaussian\")\n",
    "    \n",
    "    return(private_release)"
   ],
   "outputs": [],
   "execution_count": null
  },
  {
   "cell_type": "code",
   "metadata": {
    "cell_id": "ae58b3eb-57ac-4ed0-b43b-1668a9eeb4a1",
    "tags": [],
    "deepnote_to_be_reexecuted": false,
    "source_hash": "8cff4794",
    "execution_start": 1645071453290,
    "execution_millis": 333,
    "deepnote_output_heights": [
     21,
     367
    ],
    "deepnote_cell_type": "code"
   },
   "source": [
    "def correlation(data):\n",
    "    return np.corrcoef(data['educ'], data['income'])[0, 1]\n",
    "\n",
    "\n",
    "dp_correlation = sample_aggregate(\n",
    "    data, correlation, partition_count=200, bounds=[0,1], epsilon=1, delta=1e-6)\n",
    "\n",
    "print(\"True correlation:\", correlation(data))\n",
    "print(\"DP   correlation:\", dp_correlation)"
   ],
   "outputs": [
    {
     "name": "stdout",
     "text": "True correlation: 0.35472882626591723\nDP   correlation: 0.370176414211767\n",
     "output_type": "stream"
    }
   ],
   "execution_count": null
  },
  {
   "cell_type": "code",
   "metadata": {
    "cell_id": "f2025fad-a47b-4376-94c6-10ee7c164b69",
    "tags": [],
    "deepnote_to_be_reexecuted": false,
    "source_hash": "b623e53d",
    "execution_start": 1645071268251,
    "deepnote_cell_type": "code",
    "pycharm": {
     "name": "#%%\n"
    }
   },
   "source": [],
   "outputs": [],
   "execution_count": null
  }
 ],
 "nbformat": 4,
 "nbformat_minor": 2,
 "metadata": {
  "orig_nbformat": 2,
  "deepnote": {
   "is_reactive": false
  },
  "deepnote_notebook_id": "dfde62b0-d99f-4ff8-9850-1a15067c4a22",
  "deepnote_execution_queue": []
 }
}