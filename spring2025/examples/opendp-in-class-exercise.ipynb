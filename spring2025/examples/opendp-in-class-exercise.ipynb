{
  "nbformat": 4,
  "nbformat_minor": 0,
  "metadata": {
    "colab": {
      "provenance": []
    },
    "kernelspec": {
      "name": "python3",
      "display_name": "Python 3"
    },
    "language_info": {
      "name": "python"
    }
  },
  "cells": [
    {
      "cell_type": "markdown",
      "source": [
        "## Install OpenDP"
      ],
      "metadata": {
        "id": "9KwUqIYnmqBh"
      }
    },
    {
      "cell_type": "code",
      "source": [
        "pip install opendp"
      ],
      "metadata": {
        "colab": {
          "base_uri": "https://localhost:8080/"
        },
        "id": "ofMGvjq8OvEQ",
        "outputId": "906696b5-fcd4-40c0-cab7-6bafca6f1674"
      },
      "execution_count": null,
      "outputs": [
        {
          "output_type": "stream",
          "name": "stdout",
          "text": [
            "Collecting opendp\n",
            "  Downloading opendp-0.12.1-cp39-abi3-manylinux_2_17_x86_64.manylinux2014_x86_64.whl.metadata (6.1 kB)\n",
            "Requirement already satisfied: deprecated in /usr/local/lib/python3.11/dist-packages (from opendp) (1.2.18)\n",
            "Requirement already satisfied: wrapt<2,>=1.10 in /usr/local/lib/python3.11/dist-packages (from deprecated->opendp) (1.17.2)\n",
            "Downloading opendp-0.12.1-cp39-abi3-manylinux_2_17_x86_64.manylinux2014_x86_64.whl (25.0 MB)\n",
            "\u001b[2K   \u001b[90m━━━━━━━━━━━━━━━━━━━━━━━━━━━━━━━━━━━━━━━━\u001b[0m \u001b[32m25.0/25.0 MB\u001b[0m \u001b[31m24.3 MB/s\u001b[0m eta \u001b[36m0:00:00\u001b[0m\n",
            "\u001b[?25hInstalling collected packages: opendp\n",
            "Successfully installed opendp-0.12.1\n"
          ]
        }
      ]
    },
    {
      "cell_type": "markdown",
      "source": [
        "## OpenDP Programming Framework Demo\n",
        "\n",
        "import the OpenDP library. Enable the \"honest-but-curious\" and \"contrib\" flags:\n",
        "- **Honest-but-Curious**: We will require a looser trust model, as we cannot verify any privacy or stability properties of user-defined functions (exercise 2).\n",
        "- **Contrib**: include mechanisms which have not yet been fully-vetted"
      ],
      "metadata": {
        "id": "dtK83S31OSvV"
      }
    },
    {
      "cell_type": "code",
      "execution_count": null,
      "metadata": {
        "id": "T8NlYmJpN-ni"
      },
      "outputs": [],
      "source": [
        "import opendp.prelude as dp\n",
        "import pandas as pd\n",
        "import numpy as np\n",
        "dp.enable_features(\"honest-but-curious\", \"contrib\")\n",
        "\n",
        "# Read in the dataset\n",
        "# We will look at income data from the California PUMS dataset\n",
        "data = dp.examples.get_california_pums_path().read_text()\n",
        "\n",
        "# the greatest number of records that any one individual can influence in the dataset\n",
        "max_influence = 1\n",
        "\n",
        "# establish public information\n",
        "col_names = [\"age\", \"sex\", \"educ\", \"race\", \"income\", \"married\"]\n",
        "\n",
        "# we can also reasonably intuit that age and income will be numeric,\n",
        "# as well as bounds for them, without looking at the data\n",
        "age_bounds = (0, 100)\n",
        "income_bounds = (0, 150_000)"
      ]
    },
    {
      "cell_type": "markdown",
      "source": [
        "### Exercise 1: Computing a private variance\n",
        "\n",
        "In this exercise, you will compute a DP variance over the age column. See [`then_variance()`](https://docs.opendp.org/en/stable/api/python/opendp.transformations.html#opendp.transformations.then_variance) and [`make_variance()`](https://docs.opendp.org/en/stable/api/python/opendp.transformations.html#opendp.transformations.make_variance) in the OpenDP documentation. We will give you the code for releasing a private count since the variance transformation requires an input domain with a known (bounded) dataset size."
      ],
      "metadata": {
        "id": "G26h69XfOSIz"
      }
    },
    {
      "cell_type": "code",
      "source": [
        "income_preprocessor = (\n",
        "    # Convert data into a dataframe where columns are of type Vec<str>\n",
        "    dp.t.make_split_dataframe(separator=\",\", col_names=col_names) >>\n",
        "    # Selects a column of df, Vec<str>\n",
        "    dp.t.make_select_column(key=\"age\", TOA=str) >>\n",
        "    dp.t.then_cast_default(TOA=float) >>\n",
        "    # Clamp income values\n",
        "    dp.t.then_clamp(bounds=tuple(map(float, age_bounds)))\n",
        ")\n",
        "\n",
        "dp_count_measurement = income_preprocessor >> dp.t.then_count() >> dp.m.then_laplace(1.)\n",
        "count_release = dp_count_measurement(data)\n",
        "print(count_release)"
      ],
      "metadata": {
        "id": "WP0ShstIOP_7"
      },
      "execution_count": null,
      "outputs": []
    },
    {
      "cell_type": "markdown",
      "source": [
        "Use the DP count above as input to a DP variance measurement. You can use `dp.binary_search_chain` (see [OpenDP documentation](https://docs.opendp.org/en/stable/api/user-guide/utilities/parameter-search.html)) to find the right scale so that your DP variance is $\\varepsilon = 1$ differentially private."
      ],
      "metadata": {
        "id": "t5CgtgAWcfGG"
      }
    },
    {
      "cell_type": "code",
      "source": [
        "# TODO:\n",
        "#  (1) apply a 'then_resize' transformation to the dataset so that it is of size count_release\n",
        "#  (2) apply the 'then_variance' transformation to compute the variance\n",
        "variance_transformation = income_preprocessor >> # TODO\n",
        "\n",
        "# TODO: (3) use dp.binary_search_chain to find the right scale to pass into 'then_laplace' so that the DP variance is epsilon = 1 differentially private\n",
        "dp_variance = dp.binary_search_chain(\n",
        "    #TODO\n",
        ")\n",
        "\n",
        "#print(dp_variance(data))"
      ],
      "metadata": {
        "id": "9f-49TqWchXo"
      },
      "execution_count": null,
      "outputs": []
    },
    {
      "cell_type": "markdown",
      "source": [
        "## Exercise 2: Create a user-defined transformation\n",
        "\n",
        "Use the Plugins API to create a user-defined transformation `make_trimmed` (see [`make_user_transformation`](https://docs.opendp.org/en/stable/api/python/opendp.transformations.html#opendp.transformations.make_user_transformation)) that removes the smallest $\\alpha$ fraction of elements and the largest $\\alpha$ fraction of elements from the dataset, based on their positions after sorting.\n"
      ],
      "metadata": {
        "id": "pZJ3XlR1nMSE"
      }
    },
    {
      "cell_type": "code",
      "source": [
        "def make_trimmed(alpha, n):\n",
        "    \"\"\"Constructs a Transformation that trims the bottom alpha and top (1 - alpha) percentiles from the dataset\"\"\"\n",
        "    def function(arg: list[int]) -> list[int]:\n",
        "        # TODO: return the trimmed dataset\n",
        "        pass\n",
        "\n",
        "    def stability_map(d_in: int) -> int:\n",
        "        # TODO: fill in the stability map function\n",
        "        # The trimming transformation should map d_in close inputs to c * d_in close outputs for some value of c\n",
        "        # In section we showed that this transformation is 1-stable when the input and output metrics are both the Symmetric Distance\n",
        "        pass\n",
        "\n",
        "    return dp.t.make_user_transformation(\n",
        "        input_domain=dp.vector_domain(dp.atom_domain(T=float), size=n),\n",
        "        input_metric=dp.symmetric_distance(),\n",
        "        output_domain=dp.vector_domain(dp.atom_domain(T=float), size = int(((1 - 2*alpha)*n))),\n",
        "        output_metric=dp.symmetric_distance(),\n",
        "        function=function,\n",
        "        stability_map=stability_map,\n",
        "    )\n",
        "\n",
        "trim_transformation = (\n",
        "    (dp.vector_domain(dp.atom_domain(T=float), size=len(data)), dp.symmetric_distance())\n",
        "    >> dp.t.then_cast_default(TOA=float)\n",
        "    >> make_trimmed(alpha=0.05, n=len(data))\n",
        ")\n",
        "\n",
        "# Test your transfomation\n",
        "#print(trim_transformation(data))"
      ],
      "metadata": {
        "id": "CDgKRKVnydcm"
      },
      "execution_count": null,
      "outputs": []
    },
    {
      "cell_type": "markdown",
      "source": [
        "## Exercise 3: Create a DP Trimmed Mean Measurement\n",
        "\n",
        "Using your `make_trimmed` transformation, compute a DP trimmed mean. Don't forget to clamp the data after trimming the dataset."
      ],
      "metadata": {
        "id": "wPF0ciddwX7a"
      }
    },
    {
      "cell_type": "code",
      "source": [
        "alpha = 0.05\n",
        "epsilon = 1.0\n",
        "n = len(data)\n",
        "lower, upper = (0.0, 1_000_000.0)\n",
        "scale = (upper - lower) / (2 * alpha * n * epsilon)\n",
        "trim_transformation = (\n",
        "    (dp.vector_domain(dp.atom_domain(T=float), size = n), dp.symmetric_distance())\n",
        "    >> dp.t.then_cast_default(TOA=float)\n",
        "    >> make_trimmed(alpha, n)\n",
        ")\n",
        "dp_trimmed_mean = trim_transformation >> #TODO: finish by chaining (1) a clamping transformation (2) a mean transformation and (3) a Laplace measurment\n",
        "#print(dp_trimmed_mean(data))"
      ],
      "metadata": {
        "id": "swxs7uJ3blNs"
      },
      "execution_count": null,
      "outputs": []
    }
  ]
}