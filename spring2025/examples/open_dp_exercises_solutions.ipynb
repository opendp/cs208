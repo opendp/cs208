{
  "nbformat": 4,
  "nbformat_minor": 0,
  "metadata": {
    "colab": {
      "provenance": []
    },
    "kernelspec": {
      "name": "python3",
      "display_name": "Python 3"
    },
    "language_info": {
      "name": "python"
    }
  },
  "cells": [
    {
      "cell_type": "code",
      "source": [
        "pip install opendp"
      ],
      "metadata": {
        "colab": {
          "base_uri": "https://localhost:8080/"
        },
        "id": "ofMGvjq8OvEQ",
        "outputId": "8c810592-b604-464a-eabd-b22168662cd3"
      },
      "execution_count": null,
      "outputs": [
        {
          "output_type": "stream",
          "name": "stdout",
          "text": [
            "Requirement already satisfied: opendp in /usr/local/lib/python3.11/dist-packages (0.12.1)\n",
            "Requirement already satisfied: deprecated in /usr/local/lib/python3.11/dist-packages (from opendp) (1.2.18)\n",
            "Requirement already satisfied: wrapt<2,>=1.10 in /usr/local/lib/python3.11/dist-packages (from deprecated->opendp) (1.17.2)\n"
          ]
        }
      ]
    },
    {
      "cell_type": "markdown",
      "source": [
        "## OpenDP Programming Framework Demo\n",
        "\n",
        "import the OpenDP library. Enable the \"honest-but-curious\" and \"contrib\" flags:\n",
        "- **Honest-but-Curious**: We will require a looser trust model, as we cannot verify any privacy or stability properties of user-defined functions (exercise 2).\n",
        "- **Contrib**: include mechanisms which have not yet been fully-vetted"
      ],
      "metadata": {
        "id": "dtK83S31OSvV"
      }
    },
    {
      "cell_type": "code",
      "execution_count": null,
      "metadata": {
        "id": "T8NlYmJpN-ni"
      },
      "outputs": [],
      "source": [
        "import opendp.prelude as dp\n",
        "import pandas as pd\n",
        "import numpy as np\n",
        "dp.enable_features(\"honest-but-curious\", \"contrib\")\n",
        "\n",
        "# Read in the dataset\n",
        "# We will look at income data from the California PUMS dataset\n",
        "data = dp.examples.get_california_pums_path().read_text()\n",
        "\n",
        "# the greatest number of records that any one individual can influence in the dataset\n",
        "max_influence = 1\n",
        "\n",
        "# establish public information\n",
        "col_names = [\"age\", \"sex\", \"educ\", \"race\", \"income\", \"married\"]\n",
        "\n",
        "# we can also reasonably intuit that age and income will be numeric,\n",
        "# as well as bounds for them, without looking at the data\n",
        "age_bounds = (0, 100)\n",
        "income_bounds = (0, 150_000)\n"
      ]
    },
    {
      "cell_type": "markdown",
      "source": [
        "### Exercise 1: Computing a private variance\n",
        "\n",
        "In this exercise, you will compute a DP variance over the age column. See [`then_variance()`](https://docs.opendp.org/en/stable/api/python/opendp.transformations.html#opendp.transformations.then_variance) and [`make_variance()`](https://docs.opendp.org/en/stable/api/python/opendp.transformations.html#opendp.transformations.make_variance) in the OpenDP documentation. We will give you the code for releasing a private count since the variance transformation requires an input domain with a known (bounded) dataset size."
      ],
      "metadata": {
        "id": "G26h69XfOSIz"
      }
    },
    {
      "cell_type": "code",
      "source": [
        "age_preprocessor = (\n",
        "    # Convert data into a dataframe where columns are of type Vec<str>\n",
        "    dp.t.make_split_dataframe(separator=\",\", col_names=col_names) >>\n",
        "    # Selects a column of df, Vec<str>\n",
        "    dp.t.make_select_column(key=\"age\", TOA=str) >>\n",
        "    dp.t.then_cast_default(TOA=float) >>\n",
        "    # Clamp income values\n",
        "    dp.t.then_clamp(bounds=tuple(map(float, age_bounds)))\n",
        ")\n",
        "\n",
        "dp_count_measurement = age_preprocessor >> dp.t.then_count() >> dp.m.then_laplace(1.)\n",
        "count_release = dp_count_measurement(data)\n",
        "print(count_release)"
      ],
      "metadata": {
        "id": "WP0ShstIOP_7",
        "colab": {
          "base_uri": "https://localhost:8080/"
        },
        "outputId": "69d394a7-6618-4b7d-f172-7f92e1bbd186"
      },
      "execution_count": null,
      "outputs": [
        {
          "output_type": "stream",
          "name": "stdout",
          "text": [
            "999\n"
          ]
        },
        {
          "output_type": "stream",
          "name": "stderr",
          "text": [
            "<ipython-input-71-73fa8e157dbd>:3: DeprecationWarning: Call to deprecated function (or staticmethod) make_split_dataframe. (Use Polars instead) -- Deprecated since version 0.12.0.\n",
            "  dp.t.make_split_dataframe(separator=\",\", col_names=col_names) >>\n",
            "<ipython-input-71-73fa8e157dbd>:5: DeprecationWarning: Call to deprecated function (or staticmethod) make_select_column. (Use Polars instead) -- Deprecated since version 0.12.0.\n",
            "  dp.t.make_select_column(key=\"age\", TOA=str) >>\n"
          ]
        }
      ]
    },
    {
      "cell_type": "markdown",
      "source": [
        "Use the DP count above as input to a DP variance measurement. You can use `dp.binary_search_chain` to find the right scale so that your DP variance is $\\varepsilon = 1$ differentially private."
      ],
      "metadata": {
        "id": "iVHs_ULXYQA1"
      }
    },
    {
      "cell_type": "code",
      "source": [
        "variance_transformation = age_preprocessor >> dp.t.then_resize(size=count_release, constant=0.0) >> dp.t.then_variance()\n",
        "\n",
        "dp_variance = dp.binary_search_chain(\n",
        "    lambda s: variance_transformation >> dp.m.then_laplace(scale=s),\n",
        "    d_in=max_influence,\n",
        "    d_out=1.\n",
        ")\n",
        "\n",
        "print(dp_variance(data))"
      ],
      "metadata": {
        "colab": {
          "base_uri": "https://localhost:8080/"
        },
        "id": "Tfq3iNqLYSrb",
        "outputId": "cf216483-d899-4109-8dd7-228d9f7b306b"
      },
      "execution_count": null,
      "outputs": [
        {
          "output_type": "stream",
          "name": "stdout",
          "text": [
            "287.5584437694537\n"
          ]
        }
      ]
    },
    {
      "cell_type": "markdown",
      "source": [
        "## Exercise 2: Create a user-defined transformation\n",
        "\n",
        "Create a user-defined transformation `make_trimmed` that removes the smallest $\\alpha$ fraction of elements and the largest $\\alpha$ fraction of elements from the dataset, based on their positions after sorting."
      ],
      "metadata": {
        "id": "HP9eVlXvr3fD"
      }
    },
    {
      "cell_type": "code",
      "source": [
        "def make_trimmed(alpha, n):\n",
        "    \"\"\"Constructs a Transformation that trims the bottom alpha and top (1 - alpha) percentiles from the dataset\"\"\"\n",
        "    def function(arg: list[int]) -> list[int]:\n",
        "        arg = np.sort(arg)\n",
        "        l_idx = int(np.round(alpha * len(arg)))\n",
        "        u_idx = int(np.round((1 - alpha) * len(arg)))\n",
        "        return [arg[i] for i in range(l_idx,u_idx)]\n",
        "\n",
        "    def stability_map(d_in: int) -> int:\n",
        "        # We showed in section that this is a 1-stable transformation\n",
        "        return d_in\n",
        "\n",
        "    return dp.t.make_user_transformation(\n",
        "        input_domain=dp.vector_domain(dp.atom_domain(T=float), size=n),\n",
        "        input_metric=dp.symmetric_distance(),\n",
        "        output_domain=dp.vector_domain(dp.atom_domain(T=float), size = int(((1 - 2*alpha)*n))),\n",
        "        output_metric=dp.symmetric_distance(),\n",
        "        function=function,\n",
        "        stability_map=stability_map,\n",
        "    )\n",
        "\n",
        "trim_transformation = (\n",
        "    (dp.vector_domain(dp.atom_domain(T=float), size=len(data)), dp.symmetric_distance())\n",
        "    >> dp.t.then_cast_default(TOA=float)\n",
        "    >> make_trimmed(alpha=0.05, n=len(data))\n",
        ")\n",
        "\n",
        "age_data = age_preprocessor(data)\n",
        "trimmed_data = trim_transformation(age_data)\n",
        "print(trimmed_data[:10])"
      ],
      "metadata": {
        "colab": {
          "base_uri": "https://localhost:8080/"
        },
        "id": "CDgKRKVnydcm",
        "outputId": "dd33cd05-c99a-40ab-e9d7-5321072ad35b"
      },
      "execution_count": null,
      "outputs": [
        {
          "output_type": "stream",
          "name": "stdout",
          "text": [
            "[20.0, 20.0, 20.0, 20.0, 21.0, 21.0, 21.0, 21.0, 21.0, 21.0]\n"
          ]
        }
      ]
    },
    {
      "cell_type": "markdown",
      "source": [
        "## Exercise 3: Create a DP Trimmed Mean Measurment\n",
        "\n",
        "Using your `make_trimmed` transformation, compute a DP trimmed mean."
      ],
      "metadata": {
        "id": "H9BkbxoAskcR"
      }
    },
    {
      "cell_type": "code",
      "source": [
        "alpha = 0.05\n",
        "epsilon = 1.0\n",
        "n = count_release\n",
        "lower, upper = (0.0, 100.0)\n",
        "\n",
        "scale = (upper - lower) / (.9 * n * epsilon)\n",
        "dp_trimmed_mean = (\n",
        "    (dp.vector_domain(dp.atom_domain(T=float), size=count_release), dp.symmetric_distance())\n",
        "    >> dp.t.then_cast_default(TOA=float)\n",
        "    >> make_trimmed(alpha=0.05, n=count_release)\n",
        "    >> dp.t.then_clamp((lower, upper))\n",
        "    >> dp.t.then_mean()\n",
        "    >> dp.m.then_laplace(scale=scale)\n",
        ")\n",
        "\n",
        "age_data = age_preprocessor(data)\n",
        "print(dp_trimmed_mean(age_data))"
      ],
      "metadata": {
        "colab": {
          "base_uri": "https://localhost:8080/"
        },
        "id": "swxs7uJ3blNs",
        "outputId": "3cc7553f-7ca5-4981-8e3c-eda5fa9a5f00"
      },
      "execution_count": null,
      "outputs": [
        {
          "output_type": "stream",
          "name": "stdout",
          "text": [
            "44.2446493266399\n"
          ]
        }
      ]
    }
  ]
}