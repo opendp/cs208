{
 "cells": [
  {
   "cell_type": "markdown",
   "source": "## PyTorch Model Optimization with Opacus",
   "metadata": {
    "cell_id": "384291cf-6d19-44db-8918-c562bbf06ca4",
    "tags": [],
    "deepnote_cell_type": "markdown",
    "deepnote_cell_height": 70
   }
  },
  {
   "cell_type": "markdown",
   "source": "First we construct a PyTorch model.  We're writing these examples as neural networks.  The first example below, however, reduces to the logisitic regression we were using in last weeks DP-SGD example.",
   "metadata": {
    "cell_id": "c0b16aa9-0a73-46e1-a847-76b991d9d63f",
    "tags": [],
    "deepnote_cell_type": "markdown",
    "deepnote_cell_height": 74.796875
   }
  },
  {
   "cell_type": "code",
   "metadata": {
    "tags": [],
    "cell_id": "16a2522e-84d1-44d2-a621-bde1faad0cca",
    "deepnote_to_be_reexecuted": false,
    "source_hash": "731035a7",
    "execution_start": 1646711330381,
    "execution_millis": 819,
    "deepnote_cell_type": "code",
    "deepnote_cell_height": 621.890625
   },
   "source": "import torch\nimport torch.nn as nn\nimport torch.nn.functional as F\n\nclass ExampleLogisticModule(nn.Module):\n    def __init__(self, input_size):\n        super().__init__()\n        self.linear = nn.Linear(input_size, 1)\n        \n    def forward(self, x):\n        x = self.linear(x)\n        x = torch.sigmoid(x)\n        return x[:,0]\n\n# class ExampleLogisticModule(nn.Module):\n#     def __init__(self, input_size):\n#         super().__init__()\n#         internal_size = 5\n#         self.linear1 = nn.Linear(input_size, internal_size)\n#         self.linear2 = nn.Linear(internal_size, 1)\n#\n#     def forward(self, x):\n#         x = self.linear1(x)\n#         x = torch.sigmoid(x)\n#         x = self.linear2(x)\n#         # x = torch.sigmoid(x)\n#         return x\n",
   "execution_count": null,
   "outputs": [
    {
     "name": "stderr",
     "text": "/shared-libs/python3.7/py/lib/python3.7/site-packages/tqdm/auto.py:22: TqdmWarning: IProgress not found. Please update jupyter and ipywidgets. See https://ipywidgets.readthedocs.io/en/stable/user_install.html\n  from .autonotebook import tqdm as notebook_tqdm\n",
     "output_type": "stream"
    }
   ]
  },
  {
   "cell_type": "markdown",
   "source": "Next we load in our data.  We're again using one of our Census PUMS examples, however, switch the variables to predict employment status as a function of education and disability status (it's a stronger relationship than our previous model of marital status).  Note how the dataset is constructed for PyTorch as a pair of tensor objects.",
   "metadata": {
    "cell_id": "f283f5c4-8254-4812-a3ec-951e8394ba63",
    "tags": [],
    "deepnote_cell_type": "markdown",
    "deepnote_cell_height": 74.796875
   }
  },
  {
   "cell_type": "code",
   "metadata": {
    "cell_id": "3bde1fc2-e96e-4cdb-8642-be0e503c5321",
    "tags": [],
    "deepnote_to_be_reexecuted": false,
    "source_hash": "71c0f342",
    "execution_start": 1646711331207,
    "execution_millis": 329,
    "deepnote_cell_type": "code",
    "deepnote_cell_height": 297
   },
   "source": "from torch.utils.data import DataLoader, TensorDataset\nimport pandas as pd\nimport numpy as np\ndata = pd.read_csv(\n    \"https://raw.githubusercontent.com/privacytoolsproject/cs208/master/data/MaPUMS5full.csv\")\n\n\n# employed ~ educ + disability\n\ndataset = TensorDataset(\n    torch.tensor(data[['educ', 'disability']].values).float(),\n    torch.tensor(data['employed'].values).float())\n",
   "execution_count": null,
   "outputs": []
  },
  {
   "cell_type": "markdown",
   "source": "Here we show both how to train without preserving privacy (as below), and how to add a privacy-preserving optimizer (commented out) with Opacus.  \n\nWe add a \"privacy engine\" and then assign privacy-preserving parameters to that engine.   This swaps PyTorch's optimizer for a DP optimizer, in this case DP-SGD.  Note the `noise_multiplier` parameter which maps to a standard deviation in the Gaussian mechanism, and the `max_grad_norm` which sets the clipping size.",
   "metadata": {
    "cell_id": "59d7c322-bf31-4688-8d2c-0dfbb9035cac",
    "tags": [],
    "deepnote_cell_type": "markdown",
    "deepnote_cell_height": 235.1875
   }
  },
  {
   "cell_type": "code",
   "metadata": {
    "cell_id": "68b14a0f-b210-41ec-a108-a7deb503730e",
    "tags": [],
    "deepnote_to_be_reexecuted": false,
    "source_hash": "c22ff28e",
    "execution_start": 1646711811392,
    "execution_millis": 2205,
    "deepnote_cell_type": "code",
    "deepnote_cell_height": 1223.1875,
    "deepnote_output_heights": [
     21.1875,
     264
    ]
   },
   "source": "from opacus import PrivacyEngine\n\ntorch.manual_seed(123)\n\nmodel = ExampleLogisticModule(input_size=2)\ndata_loader = DataLoader(dataset, batch_size=1_000, shuffle=True)\noptimizer = torch.optim.SGD(model.parameters(), lr=.002)\n\nnum_epochs = 1\n\n# num_epochs = 4\n# privacy_engine = PrivacyEngine()\n# model, optimizer, data_loader = privacy_engine.make_private(\n#     module=model,\n#     optimizer=optimizer,\n#     data_loader=data_loader,\n#     noise_multiplier=1.0,\n#     max_grad_norm=0.5,\n# )\n\nlosses = []\n\n\nfor _ in range(num_epochs):\n    for batch in data_loader:\n\n        # set .grad in all parameter tensors\n        inputs, targets = batch\n        outputs = model(inputs)\n        loss = F.binary_cross_entropy(outputs, targets)\n        loss.backward()\n\n        # take a step forward\n        optimizer.step()\n\n        # clear .grad in all parameter tensors\n        optimizer.zero_grad()\n\n        # evaluate performance\n        # accuracy = torch.sum(outputs.round() == targets) / len(outputs)\n        losses.append(loss.item())\n\nimport matplotlib.pyplot as plt\nplt.plot(range(len(losses)), losses)\nplt.xlabel(\"step\")\nplt.ylabel(\"loss\")",
   "execution_count": null,
   "outputs": [
    {
     "output_type": "execute_result",
     "execution_count": 34,
     "data": {
      "text/plain": "Text(0, 0.5, 'loss')"
     },
     "metadata": {}
    },
    {
     "data": {
      "text/plain": "<Figure size 432x288 with 1 Axes>",
      "image/png": "[encoded data removed]"
     },
     "metadata": {
      "needs_background": "light",
      "image/png": {
       "width": 391,
       "height": 262
      }
     },
     "output_type": "display_data"
    }
   ]
  },
  {
   "cell_type": "markdown",
   "source": "Opacus gives us this utility to determine the total privacy-loss from the optimization steps as an accounting procedure after the run.",
   "metadata": {
    "cell_id": "0e3b28ff-edac-4ca6-9241-8f3d52cdb7a1",
    "tags": [],
    "deepnote_cell_type": "markdown",
    "deepnote_cell_height": 52.390625
   }
  },
  {
   "cell_type": "code",
   "metadata": {
    "cell_id": "ff741eab-f608-4427-8695-790d558fdf97",
    "tags": [],
    "deepnote_to_be_reexecuted": false,
    "source_hash": "43cbae44",
    "execution_start": 1646711729026,
    "execution_millis": 18,
    "deepnote_cell_type": "code",
    "deepnote_cell_height": 118.1875,
    "deepnote_output_heights": [
     21.1875
    ]
   },
   "source": "privacy_engine.get_epsilon(delta=1e-6)",
   "execution_count": null,
   "outputs": [
    {
     "output_type": "execute_result",
     "execution_count": 24,
     "data": {
      "text/plain": "1.3203429108526712"
     },
     "metadata": {}
    }
   ]
  },
  {
   "cell_type": "code",
   "metadata": {
    "cell_id": "c2c892c7-ab73-4453-b4fc-f1205eb14861",
    "tags": [],
    "deepnote_cell_type": "code",
    "deepnote_cell_height": 66
   },
   "source": "",
   "execution_count": null,
   "outputs": []
  },
  {
   "cell_type": "markdown",
   "source": "<a style='text-decoration:none;line-height:16px;display:flex;color:#5B5B62;padding:10px;justify-content:end;' href='https://deepnote.com?utm_source=created-in-deepnote-cell&projectId=0df97151-1c38-49bc-a037-2a058b96fd82' target=\"_blank\">\n<img alt='Created in deepnote.com' style='display:inline;max-height:16px;margin:0px;margin-right:7.5px;' src='data:image/svg+xml;base64,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' > </img>\nCreated in <span style='font-weight:600;margin-left:4px;'>Deepnote</span></a>",
   "metadata": {
    "tags": [],
    "created_in_deepnote_cell": true,
    "deepnote_cell_type": "markdown"
   }
  }
 ],
 "nbformat": 4,
 "nbformat_minor": 2,
 "metadata": {
  "orig_nbformat": 2,
  "deepnote": {
   "is_reactive": false
  },
  "deepnote_notebook_id": "771de608-f358-49bd-b697-6a1278a2ce40",
  "deepnote_execution_queue": []
 }
}
